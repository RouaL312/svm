{
 "cells": [
  {
   "cell_type": "code",
   "execution_count": 20,
   "metadata": {},
   "outputs": [],
   "source": [
    "import keras\n",
    "from keras.layers import Conv2D, MaxPooling2D\n",
    "from keras.layers import Dense, Dropout, Flatten\n",
    "from keras.models import Sequential\n",
    "from keras.layers import Dense\n",
    "from keras.wrappers.scikit_learn import KerasClassifier\n",
    "from keras.utils import np_utils\n",
    "from sklearn.model_selection import cross_val_score\n",
    "from sklearn.model_selection import KFold\n",
    "from sklearn.preprocessing import LabelEncoder\n",
    "from sklearn.pipeline import Pipeline\n",
    "from keras import optimizers\n",
    "from keras.layers.advanced_activations import ELU, PReLU, LeakyReLU\n",
    "from keras.layers import Dense, Dropout, Activation, Flatten"
   ]
  },
  {
   "cell_type": "code",
   "execution_count": 21,
   "metadata": {},
   "outputs": [
    {
     "name": "stdout",
     "output_type": "stream",
     "text": [
      "Model: \"sequential_2\"\n",
      "_________________________________________________________________\n",
      "Layer (type)                 Output Shape              Param #   \n",
      "=================================================================\n",
      "conv2d_5 (Conv2D)            (None, 513, 800, 8)       224       \n",
      "_________________________________________________________________\n",
      "activation_7 (Activation)    (None, 513, 800, 8)       0         \n",
      "_________________________________________________________________\n",
      "conv2d_6 (Conv2D)            (None, 511, 798, 8)       584       \n",
      "_________________________________________________________________\n",
      "activation_8 (Activation)    (None, 511, 798, 8)       0         \n",
      "_________________________________________________________________\n",
      "max_pooling2d_3 (MaxPooling2 (None, 255, 399, 8)       0         \n",
      "_________________________________________________________________\n",
      "dropout_2 (Dropout)          (None, 255, 399, 8)       0         \n",
      "_________________________________________________________________\n",
      "conv2d_7 (Conv2D)            (None, 255, 399, 16)      1168      \n",
      "_________________________________________________________________\n",
      "activation_9 (Activation)    (None, 255, 399, 16)      0         \n",
      "_________________________________________________________________\n",
      "conv2d_8 (Conv2D)            (None, 253, 397, 16)      2320      \n",
      "_________________________________________________________________\n",
      "activation_10 (Activation)   (None, 253, 397, 16)      0         \n",
      "_________________________________________________________________\n",
      "max_pooling2d_4 (MaxPooling2 (None, 126, 198, 16)      0         \n",
      "_________________________________________________________________\n",
      "flatten_2 (Flatten)          (None, 399168)            0         \n",
      "_________________________________________________________________\n",
      "activation_11 (Activation)   (None, 399168)            0         \n",
      "_________________________________________________________________\n",
      "dense_2 (Dense)              (None, 57)                22752633  \n",
      "_________________________________________________________________\n",
      "activation_12 (Activation)   (None, 57)                0         \n",
      "=================================================================\n",
      "Total params: 22,756,929\n",
      "Trainable params: 22,756,929\n",
      "Non-trainable params: 0\n",
      "_________________________________________________________________\n"
     ]
    }
   ],
   "source": [
    "model = Sequential()\n",
    "model.add(Conv2D(8, (3, 3), padding='same',\n",
    "                 input_shape=(513, 800, 3)))\n",
    "model.add(Activation('relu'))\n",
    "model.add(Conv2D(8, (3, 3)))\n",
    "model.add(Activation('relu'))\n",
    "model.add(MaxPooling2D(pool_size=(2, 2)))\n",
    "model.add(Dropout(0.25))\n",
    "\n",
    "model.add(Conv2D(16, (3, 3), padding='same'))\n",
    "model.add(Activation('relu'))\n",
    "model.add(Conv2D(16, (3, 3)))\n",
    "model.add(Activation('relu'))\n",
    "model.add(MaxPooling2D(pool_size=(2, 2)))\n",
    "#model.add(Dropout(0.25))\n",
    "\n",
    "model.add(Flatten())\n",
    "#model.add(Dense(10))\n",
    "model.add(Activation('relu'))\n",
    "#model.add(Dropout(0.5))\n",
    "model.add(Dense(57))\n",
    "model.add(Activation('softmax'))\n",
    "\n",
    "model.summary()\n",
    "\n",
    "# initiate RMSprop optimizer\n",
    "opt = keras.optimizers.rmsprop(lr=0.0001, decay=1e-6)\n",
    "\n",
    "# Let's train the model using RMSprop\n",
    "model.compile(loss='categorical_crossentropy',\n",
    "              optimizer=opt,\n",
    "              metrics=['accuracy'])\n"
   ]
  },
  {
   "cell_type": "code",
   "execution_count": 23,
   "metadata": {},
   "outputs": [],
   "source": [
    "model.load_weights('F:/voice-classification-master/scripts/demo/my_model_weights.h5')\n"
   ]
  },
  {
   "cell_type": "code",
   "execution_count": 24,
   "metadata": {},
   "outputs": [],
   "source": [
    "import subprocess\n",
    "import matplotlib.pyplot\n",
    "import os\n",
    "import matplotlib.pyplot as plt\n",
    "rootdir = 'F:\\\\voice-classification-master\\\\lang_example_90\\\\train\\\\'"
   ]
  },
  {
   "cell_type": "code",
   "execution_count": 25,
   "metadata": {},
   "outputs": [
    {
     "data": {
      "text/plain": [
       "['hamza',\n",
       " 'hamza',\n",
       " 'hamza',\n",
       " 'hamza',\n",
       " 'hamza',\n",
       " 'hamza',\n",
       " 'isabel',\n",
       " 'isabel',\n",
       " 'isabel',\n",
       " 'isabel',\n",
       " 'isabel',\n",
       " 'isabel',\n",
       " 'kais',\n",
       " 'kais',\n",
       " 'kais',\n",
       " 'kais',\n",
       " 'kais',\n",
       " 'kais',\n",
       " 'yousef',\n",
       " 'yousef',\n",
       " 'yousef',\n",
       " 'yousef',\n",
       " 'yousef',\n",
       " 'yousef']"
      ]
     },
     "execution_count": 25,
     "metadata": {},
     "output_type": "execute_result"
    }
   ],
   "source": [
    "spectograms = []\n",
    "spect_read = []\n",
    "spectograms_ids = []\n",
    "for subdir, dirs, files in os.walk(rootdir):\n",
    "    for file in files:\n",
    "        if file.endswith('png'): \n",
    "            try:\n",
    "                x = plt.imread(subdir+'/'+file)\n",
    "            except:\n",
    "                continue\n",
    "            if str(x.shape) == '(513, 800, 3)': \n",
    "                spect_read.append(x)\n",
    "                #print(subdir) \n",
    "                name = subdir.replace(rootdir, '')\n",
    "                #print(name)\n",
    "                #name = name.replace('/spects', \"\")\n",
    "                spectograms_ids.append(name)\n",
    "                spectograms.append(file)\n",
    "x_train = spect_read\n",
    "y_train = spectograms_ids\n",
    "y_train"
   ]
  },
  {
   "cell_type": "code",
   "execution_count": 26,
   "metadata": {},
   "outputs": [
    {
     "data": {
      "text/plain": [
       "['hamza',\n",
       " 'hamza',\n",
       " 'hamza',\n",
       " 'isabel',\n",
       " 'isabel',\n",
       " 'isabel',\n",
       " 'isabel',\n",
       " 'kais',\n",
       " 'kais',\n",
       " 'kais',\n",
       " 'kais',\n",
       " 'yousef',\n",
       " 'yousef',\n",
       " 'yousef',\n",
       " 'yousef']"
      ]
     },
     "execution_count": 26,
     "metadata": {},
     "output_type": "execute_result"
    }
   ],
   "source": [
    "rootdir = 'F:\\\\voice-classification-master\\\\lang_example_90\\\\test\\\\'\n",
    "spectograms = []\n",
    "spect_read = []\n",
    "spectograms_ids = []\n",
    "for subdir, dirs, files in os.walk(rootdir):\n",
    "    for file in files:\n",
    "        if file.endswith('png'): \n",
    "            try:\n",
    "                x = plt.imread(subdir+'/'+file)\n",
    "            except:\n",
    "                continue\n",
    "            if str(x.shape) == '(513, 800, 3)': \n",
    "                spect_read.append(x)\n",
    "                name = subdir.replace(rootdir, '')\n",
    "                #name = name.replace('/spects', \"\")\n",
    "                spectograms_ids.append(name)\n",
    "                spectograms.append(file)\n",
    "x_test = spect_read\n",
    "y_test = spectograms_ids\n",
    "y_test"
   ]
  },
  {
   "cell_type": "code",
   "execution_count": 27,
   "metadata": {},
   "outputs": [],
   "source": [
    "\n",
    "import numpy as np\n",
    "from sklearn.preprocessing import LabelEncoder\n",
    "from keras.utils import np_utils\n",
    "\n",
    "encoder = LabelEncoder()\n",
    "y_temp_train = y_train\n",
    "encoder.fit(y_temp_train)\n",
    "encoded_Y = encoder.transform(y_temp_train)\n",
    "dummy_y = np_utils.to_categorical(encoded_Y)\n",
    "\n",
    "y_temp2_train = y_test\n",
    "encoder.fit(y_temp2_train)\n",
    "encoded_Y = encoder.transform(y_temp2_train)\n",
    "dummy2_y = np_utils.to_categorical(encoded_Y)"
   ]
  },
  {
   "cell_type": "code",
   "execution_count": 28,
   "metadata": {},
   "outputs": [
    {
     "data": {
      "text/plain": [
       "array([[1., 0., 0., 0.],\n",
       "       [1., 0., 0., 0.],\n",
       "       [1., 0., 0., 0.],\n",
       "       [0., 1., 0., 0.],\n",
       "       [0., 1., 0., 0.],\n",
       "       [0., 1., 0., 0.],\n",
       "       [0., 1., 0., 0.],\n",
       "       [0., 0., 1., 0.],\n",
       "       [0., 0., 1., 0.],\n",
       "       [0., 0., 1., 0.],\n",
       "       [0., 0., 1., 0.],\n",
       "       [0., 0., 0., 1.],\n",
       "       [0., 0., 0., 1.],\n",
       "       [0., 0., 0., 1.],\n",
       "       [0., 0., 0., 1.]], dtype=float32)"
      ]
     },
     "execution_count": 28,
     "metadata": {},
     "output_type": "execute_result"
    }
   ],
   "source": [
    "dummy2_y"
   ]
  },
  {
   "cell_type": "code",
   "execution_count": 30,
   "metadata": {},
   "outputs": [],
   "source": [
    "from keras.models import Model\n",
    "model2 = Model(inputs=model.input, outputs=model.get_layer('flatten_2').output)"
   ]
  },
  {
   "cell_type": "code",
   "execution_count": 31,
   "metadata": {},
   "outputs": [],
   "source": [
    "svm_x_train = []\n",
    "svm_y_train = []\n",
    "for i in range(len(x_train)):\n",
    "    x_1 = np.expand_dims(x_train[i], axis=0)\n",
    "    flatten_2_features = model2.predict(x_1)\n",
    "    svm_x_train.append(flatten_2_features)\n",
    "    svm_y_train.append(dummy_y[i])"
   ]
  },
  {
   "cell_type": "code",
   "execution_count": 32,
   "metadata": {},
   "outputs": [
    {
     "data": {
      "text/plain": [
       "[array([1., 0., 0., 0.], dtype=float32),\n",
       " array([1., 0., 0., 0.], dtype=float32),\n",
       " array([1., 0., 0., 0.], dtype=float32),\n",
       " array([1., 0., 0., 0.], dtype=float32),\n",
       " array([1., 0., 0., 0.], dtype=float32),\n",
       " array([1., 0., 0., 0.], dtype=float32),\n",
       " array([0., 1., 0., 0.], dtype=float32),\n",
       " array([0., 1., 0., 0.], dtype=float32),\n",
       " array([0., 1., 0., 0.], dtype=float32),\n",
       " array([0., 1., 0., 0.], dtype=float32),\n",
       " array([0., 1., 0., 0.], dtype=float32),\n",
       " array([0., 1., 0., 0.], dtype=float32),\n",
       " array([0., 0., 1., 0.], dtype=float32),\n",
       " array([0., 0., 1., 0.], dtype=float32),\n",
       " array([0., 0., 1., 0.], dtype=float32),\n",
       " array([0., 0., 1., 0.], dtype=float32),\n",
       " array([0., 0., 1., 0.], dtype=float32),\n",
       " array([0., 0., 1., 0.], dtype=float32),\n",
       " array([0., 0., 0., 1.], dtype=float32),\n",
       " array([0., 0., 0., 1.], dtype=float32),\n",
       " array([0., 0., 0., 1.], dtype=float32),\n",
       " array([0., 0., 0., 1.], dtype=float32),\n",
       " array([0., 0., 0., 1.], dtype=float32),\n",
       " array([0., 0., 0., 1.], dtype=float32)]"
      ]
     },
     "execution_count": 32,
     "metadata": {},
     "output_type": "execute_result"
    }
   ],
   "source": [
    "svm_y_train"
   ]
  },
  {
   "cell_type": "code",
   "execution_count": 33,
   "metadata": {},
   "outputs": [],
   "source": [
    "from sklearn import svm\n",
    "svm_x_train = np.array(svm_x_train)\n",
    "clf = svm.SVC(kernel='rbf', class_weight='balanced')\n",
    "dataset_size = len(svm_x_train)\n",
    "svm_x_train = np.array(svm_x_train).reshape(dataset_size,-1)\n",
    "svm_y_train = np.array(svm_y_train)\n",
    "svm_y_train = [np.where(r==1)[0][0] for r in svm_y_train]"
   ]
  },
  {
   "cell_type": "code",
   "execution_count": 34,
   "metadata": {},
   "outputs": [
    {
     "data": {
      "text/plain": [
       "SVC(C=1.0, break_ties=False, cache_size=200, class_weight='balanced', coef0=0.0,\n",
       "    decision_function_shape='ovr', degree=3, gamma='scale', kernel='rbf',\n",
       "    max_iter=-1, probability=False, random_state=None, shrinking=True,\n",
       "    tol=0.001, verbose=False)"
      ]
     },
     "execution_count": 34,
     "metadata": {},
     "output_type": "execute_result"
    }
   ],
   "source": [
    "clf.fit(svm_x_train, svm_y_train)\n"
   ]
  },
  {
   "cell_type": "code",
   "execution_count": 35,
   "metadata": {},
   "outputs": [],
   "source": [
    "svm_x_test = []\n",
    "svm_y_test = []\n",
    "for i in range(len(x_test)):\n",
    "    x_1 = np.expand_dims(x_test[i], axis=0)\n",
    "    #x_1 = preprocess_input(x_1)\n",
    "    flatten_2_features = model2.predict(x_1)\n",
    "    svm_x_test.append(flatten_2_features)\n",
    "    svm_y_test.append(dummy2_y[i])\n",
    "svm_x_test = np.array(svm_x_test)"
   ]
  },
  {
   "cell_type": "code",
   "execution_count": 36,
   "metadata": {},
   "outputs": [],
   "source": [
    "dataset_size = len(svm_x_test)\n",
    "svm_x_test = np.array(svm_x_test).reshape(dataset_size,-1)\n",
    "svm_y_test = [np.where(r==1)[0][0] for r in svm_y_test]"
   ]
  },
  {
   "cell_type": "code",
   "execution_count": 37,
   "metadata": {},
   "outputs": [
    {
     "name": "stdout",
     "output_type": "stream",
     "text": [
      "[0, 0, 0, 1, 1, 1, 1, 2, 2, 2, 2, 3, 3, 3, 3]\n"
     ]
    }
   ],
   "source": [
    "print(svm_y_test)"
   ]
  },
  {
   "cell_type": "code",
   "execution_count": 38,
   "metadata": {},
   "outputs": [
    {
     "name": "stdout",
     "output_type": "stream",
     "text": [
      "[0 1 0 1 1 1 1 2 2 2 2 3 3 3 3]\n"
     ]
    }
   ],
   "source": [
    "print(clf.predict(svm_x_test))"
   ]
  },
  {
   "cell_type": "code",
   "execution_count": 41,
   "metadata": {},
   "outputs": [
    {
     "data": {
      "text/plain": [
       "0.9333333333333333"
      ]
     },
     "execution_count": 41,
     "metadata": {},
     "output_type": "execute_result"
    }
   ],
   "source": [
    "from sklearn.metrics import accuracy_score\n",
    "accuracy_score(svm_y_test, clf.predict(svm_x_test))"
   ]
  },
  {
   "cell_type": "code",
   "execution_count": 48,
   "metadata": {},
   "outputs": [
    {
     "name": "stderr",
     "output_type": "stream",
     "text": [
      "C:\\Users\\laadouz\\Anaconda3\\envs\\tensorflow-session\\lib\\site-packages\\sklearn\\model_selection\\_split.py:667: UserWarning: The least populated class in y has only 3 members, which is less than n_splits=4.\n",
      "  % (min_groups, self.n_splits)), UserWarning)\n"
     ]
    },
    {
     "data": {
      "text/plain": [
       "array([0.75, 0.75, 0.5 , 1.  ])"
      ]
     },
     "execution_count": 48,
     "metadata": {},
     "output_type": "execute_result"
    }
   ],
   "source": [
    "from sklearn.model_selection import cross_val_score\n",
    "cross_val_score(clf, svm_x_test, svm_y_test, cv=4)\n"
   ]
  },
  {
   "cell_type": "code",
   "execution_count": null,
   "metadata": {},
   "outputs": [],
   "source": []
  },
  {
   "cell_type": "code",
   "execution_count": null,
   "metadata": {},
   "outputs": [],
   "source": []
  }
 ],
 "metadata": {
  "kernelspec": {
   "display_name": "Python 3.7.6 64-bit ('tensorflow-session': conda)",
   "language": "python",
   "name": "python37664bittensorflowsessionconda5dac529a3d4d42d486c8dc1dfcc77c9c"
  },
  "language_info": {
   "codemirror_mode": {
    "name": "ipython",
    "version": 3
   },
   "file_extension": ".py",
   "mimetype": "text/x-python",
   "name": "python",
   "nbconvert_exporter": "python",
   "pygments_lexer": "ipython3",
   "version": "3.7.6"
  }
 },
 "nbformat": 4,
 "nbformat_minor": 4
}
